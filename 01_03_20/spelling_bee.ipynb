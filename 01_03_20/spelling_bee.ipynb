{
 "cells": [
  {
   "cell_type": "code",
   "execution_count": 1,
   "metadata": {},
   "outputs": [],
   "source": [
    "import numpy as np\n",
    "import matplotlib.pyplot as plt\n",
    "import progressbar\n",
    "\n",
    "%matplotlib inline"
   ]
  },
  {
   "cell_type": "code",
   "execution_count": 2,
   "metadata": {},
   "outputs": [],
   "source": [
    "def word_score(jumble, central_letter, word, print_words=False):\n",
    "    \"\"\"Check the score according to Spelling Bee rules\n",
    "    \n",
    "    jumble : the anagramable letters\n",
    "    central_letter : the mandatory letter\n",
    "    word : the anagram made from the jumble letters that determines the score\n",
    "    \n",
    "    Returns 0 if invalid word\n",
    "    \"\"\"\n",
    "    if (central_letter in word and set(word) <= set(jumble) and len(word) >= 4):\n",
    "        score = len(word)\n",
    "        if len(set(word)) == 7:\n",
    "            score += 7\n",
    "        if print_words:\n",
    "            print(word)\n",
    "        return score\n",
    "    else:\n",
    "        return 0"
   ]
  },
  {
   "cell_type": "code",
   "execution_count": 3,
   "metadata": {},
   "outputs": [],
   "source": [
    "def total_score(jumble, central_letter, word_list, print_words=False):\n",
    "    \"\"\"Check the total score according to Spelling bee rules\n",
    "    \n",
    "    Essentially a wrapper for word_score\n",
    "    jumble : the anagramable letters\n",
    "    central_letter : the mandatory letter\n",
    "    word_list : the list of all words to check against\n",
    "    \n",
    "    returns the total score and the number of scoring words\"\"\"\n",
    "    score = 0\n",
    "    count = 0\n",
    "    for word in word_list:\n",
    "        temp_score = word_score(jumble, central_letter, word, print_words)\n",
    "        score += temp_score\n",
    "        if temp_score > 0:\n",
    "            count += 1\n",
    "    return score, count"
   ]
  },
  {
   "cell_type": "code",
   "execution_count": 4,
   "metadata": {},
   "outputs": [],
   "source": [
    "word_list = np.loadtxt('word_list.txt', dtype=str)\n",
    "len_all = len(word_list)"
   ]
  },
  {
   "cell_type": "code",
   "execution_count": 5,
   "metadata": {},
   "outputs": [],
   "source": [
    "# Culling word list of invalid words to save time (>= 4 letters, no \"s\")\n",
    "word_list = np.array([word for word in word_list if 's' not in word and len(word) >= 4])\n",
    "len_culled = len(word_list)"
   ]
  },
  {
   "cell_type": "markdown",
   "metadata": {},
   "source": [
    "Just out of curiosity, what fraction of words have an \"s\" in them?"
   ]
  },
  {
   "cell_type": "code",
   "execution_count": 6,
   "metadata": {},
   "outputs": [
    {
     "name": "stdout",
     "output_type": "stream",
     "text": [
      "60.66 % have the letter \"S\"\n"
     ]
    }
   ],
   "source": [
    "print(f'{(len_all - len_culled) / len_all * 100:.2f} % have the letter \"S\"')"
   ]
  },
  {
   "cell_type": "markdown",
   "metadata": {},
   "source": [
    "Since the rules say no letter can be repeated AND there must be at least one pangram, then the possible 7-letter combinations must be the subset of all words that have 7+ letters, keeping the 7 unique ones from each (with no repeats)."
   ]
  },
  {
   "cell_type": "code",
   "execution_count": 7,
   "metadata": {},
   "outputs": [],
   "source": [
    "candidates = np.array([''.join(sorted(set(word))) for word in word_list if len(word) >= 7 and len(set(word)) == 7])"
   ]
  },
  {
   "cell_type": "code",
   "execution_count": 8,
   "metadata": {},
   "outputs": [],
   "source": [
    "candidates = np.unique(candidates)"
   ]
  },
  {
   "cell_type": "markdown",
   "metadata": {},
   "source": [
    "How many candidates are left?"
   ]
  },
  {
   "cell_type": "code",
   "execution_count": 9,
   "metadata": {},
   "outputs": [
    {
     "name": "stdout",
     "output_type": "stream",
     "text": [
      "7986 candidate letter combinations left\n"
     ]
    }
   ],
   "source": [
    "print(f'{len(candidates)} candidate letter combinations left')"
   ]
  },
  {
   "cell_type": "markdown",
   "metadata": {},
   "source": [
    "We will have to test each candidate's total score among all words, as well as for all 7 letters as a central"
   ]
  },
  {
   "cell_type": "code",
   "execution_count": 10,
   "metadata": {},
   "outputs": [
    {
     "name": "stderr",
     "output_type": "stream",
     "text": [
      "100% |########################################################################|\n"
     ]
    }
   ],
   "source": [
    "current_jumble = 'none'\n",
    "current_total = 0\n",
    "current_central = 'a'\n",
    "bar = progressbar.ProgressBar(maxval=len(candidates)).start()\n",
    "for i, candidate in enumerate(candidates):\n",
    "    for j in range(7):\n",
    "        temp_total, temp_count = total_score(candidate, candidate[j], word_list)\n",
    "        if temp_total > current_total:\n",
    "            current_jumble = candidate\n",
    "            current_total = temp_total\n",
    "            current_central = candidate[j]\n",
    "    bar.update(i+1)\n",
    "bar.finish()"
   ]
  },
  {
   "cell_type": "code",
   "execution_count": 11,
   "metadata": {},
   "outputs": [
    {
     "name": "stdout",
     "output_type": "stream",
     "text": [
      "The winning 7-letter combination is aeginrt,\n",
      "with central letter r, giving a total score of 4036\n",
      "from 537 different words.\n"
     ]
    }
   ],
   "source": [
    "print(f'The winning 7-letter combination is {current_jumble},\\n' \\\n",
    " f'with central letter {current_central}, giving a total score of {current_total}\\n' \\\n",
    " f'from {total_score(current_jumble, current_central, word_list)[1]} different words.')"
   ]
  }
 ],
 "metadata": {
  "kernelspec": {
   "display_name": "Python [conda env:root] *",
   "language": "python",
   "name": "conda-root-py"
  },
  "language_info": {
   "codemirror_mode": {
    "name": "ipython",
    "version": 3
   },
   "file_extension": ".py",
   "mimetype": "text/x-python",
   "name": "python",
   "nbconvert_exporter": "python",
   "pygments_lexer": "ipython3",
   "version": "3.7.4"
  }
 },
 "nbformat": 4,
 "nbformat_minor": 2
}
