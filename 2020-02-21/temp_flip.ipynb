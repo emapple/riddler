{
 "cells": [
  {
   "cell_type": "markdown",
   "metadata": {},
   "source": [
    "# Imports and definitions"
   ]
  },
  {
   "cell_type": "code",
   "execution_count": 1,
   "metadata": {},
   "outputs": [],
   "source": [
    "import numpy as np\n",
    "import matplotlib.pyplot as plt"
   ]
  },
  {
   "cell_type": "code",
   "execution_count": 2,
   "metadata": {},
   "outputs": [],
   "source": [
    "def roundify(temp, dec):\n",
    "    \"\"\"The rounding portion of the temperature conversions\"\"\"\n",
    "    if dec is not None:\n",
    "        temp = np.round(temp, decimals=dec)\n",
    "        if dec == 0:\n",
    "            temp = temp.astype(int)\n",
    "    return temp"
   ]
  },
  {
   "cell_type": "code",
   "execution_count": 3,
   "metadata": {},
   "outputs": [],
   "source": [
    "def celsius_to_fahrenheit(temp, dec=None):\n",
    "    \"\"\"Convert Celcius to Fahrenheit\n",
    "    \n",
    "    temp : array_like\n",
    "    dec (default None) : if not None, the number of decimal\n",
    "        places to round to. If dec=0, returns an int\n",
    "    \"\"\"\n",
    "    temp = np.array(temp) * 9. / 5. + 32\n",
    "    return roundify(temp, dec)"
   ]
  },
  {
   "cell_type": "code",
   "execution_count": 4,
   "metadata": {},
   "outputs": [],
   "source": [
    "def fahrenheit_to_celsius(temp, dec=None):\n",
    "    \"\"\"Convert Fahrenheit to Celcius\n",
    "    \n",
    "    temp : array_like\n",
    "    dec (default None) : if not None, the number of decimal\n",
    "        places to round to. If dec=0, returns an int\n",
    "    \"\"\"\n",
    "    temp = (np.array(temp) - 32) * 5./9\n",
    "    return roundify(temp, dec)"
   ]
  },
  {
   "cell_type": "markdown",
   "metadata": {},
   "source": [
    "# Flipped temperatures\n",
    "\n",
    "We know the temperatures in both scales have to be double digit, which means that the maximum temperature is 99F and the minimum temperature is 10C (since Celsius goes higher in double-digits and Fahrenheit goes lower in double digits)."
   ]
  },
  {
   "cell_type": "code",
   "execution_count": 5,
   "metadata": {},
   "outputs": [],
   "source": [
    "max_C = fahrenheit_to_celsius(99, dec=0)"
   ]
  },
  {
   "cell_type": "code",
   "execution_count": 6,
   "metadata": {},
   "outputs": [
    {
     "name": "stdout",
     "output_type": "stream",
     "text": [
      "maximum in C is 37\n"
     ]
    }
   ],
   "source": [
    "print(f'maximum in C is {max_C}')"
   ]
  },
  {
   "cell_type": "markdown",
   "metadata": {},
   "source": [
    "Let's brute-force this: we'll test very temperature from 10 to 37 C, and see if its palindrome is its temperature in F."
   ]
  },
  {
   "cell_type": "code",
   "execution_count": 7,
   "metadata": {},
   "outputs": [],
   "source": [
    "test_Cs = np.arange(10, max_C+1, 1)\n",
    "switches = test_Cs[np.equal(celsius_to_fahrenheit(test_Cs, dec=0), \n",
    "         [int(str(T)[::-1]) for T in test_Cs])]"
   ]
  },
  {
   "cell_type": "code",
   "execution_count": 8,
   "metadata": {
    "scrolled": true
   },
   "outputs": [
    {
     "name": "stdout",
     "output_type": "stream",
     "text": [
      "switches are [16 28]\n"
     ]
    }
   ],
   "source": [
    "print(f'switches are {switches}')"
   ]
  },
  {
   "cell_type": "markdown",
   "metadata": {},
   "source": [
    "And there you have it! 16 C = 61 F (which we knew), and 28 C = 82 F, which is new!"
   ]
  }
 ],
 "metadata": {
  "kernelspec": {
   "display_name": "Python [conda env:root] *",
   "language": "python",
   "name": "conda-root-py"
  },
  "language_info": {
   "codemirror_mode": {
    "name": "ipython",
    "version": 3
   },
   "file_extension": ".py",
   "mimetype": "text/x-python",
   "name": "python",
   "nbconvert_exporter": "python",
   "pygments_lexer": "ipython3",
   "version": "3.7.4"
  },
  "toc": {
   "base_numbering": 1,
   "nav_menu": {},
   "number_sections": true,
   "sideBar": true,
   "skip_h1_title": false,
   "title_cell": "Table of Contents",
   "title_sidebar": "Contents",
   "toc_cell": false,
   "toc_position": {},
   "toc_section_display": true,
   "toc_window_display": false
  }
 },
 "nbformat": 4,
 "nbformat_minor": 2
}
